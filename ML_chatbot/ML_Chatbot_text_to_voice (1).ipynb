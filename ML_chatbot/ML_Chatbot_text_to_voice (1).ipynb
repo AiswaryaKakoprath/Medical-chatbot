{
  "nbformat": 4,
  "nbformat_minor": 0,
  "metadata": {
    "colab": {
      "provenance": []
    },
    "kernelspec": {
      "name": "python3",
      "display_name": "Python 3"
    },
    "language_info": {
      "name": "python"
    }
  },
  "cells": [
    {
      "cell_type": "code",
      "source": [
        "pip install pyttsx3"
      ],
      "metadata": {
        "colab": {
          "base_uri": "https://localhost:8080/"
        },
        "id": "HpOGgzA7mRFn",
        "outputId": "106f463d-6853-46de-fa27-3ec4d35a6647"
      },
      "execution_count": 2,
      "outputs": [
        {
          "output_type": "stream",
          "name": "stdout",
          "text": [
            "Collecting pyttsx3\n",
            "  Downloading pyttsx3-2.90-py3-none-any.whl (39 kB)\n",
            "Installing collected packages: pyttsx3\n",
            "Successfully installed pyttsx3-2.90\n"
          ]
        }
      ]
    },
    {
      "cell_type": "code",
      "source": [
        "from google.colab import drive\n",
        "drive.mount('/content/drive')"
      ],
      "metadata": {
        "colab": {
          "base_uri": "https://localhost:8080/"
        },
        "id": "SzOuG8-55N5u",
        "outputId": "0c99a92d-5cb1-4969-a690-b9e559ef22cc"
      },
      "execution_count": 1,
      "outputs": [
        {
          "output_type": "stream",
          "name": "stdout",
          "text": [
            "Mounted at /content/drive\n"
          ]
        }
      ]
    },
    {
      "cell_type": "code",
      "source": [
        "!pip install gTTS\n"
      ],
      "metadata": {
        "id": "tIgNHfTwmq2N",
        "colab": {
          "base_uri": "https://localhost:8080/"
        },
        "outputId": "525c1ec4-4a27-4e10-ba08-bd598eebf176"
      },
      "execution_count": 3,
      "outputs": [
        {
          "output_type": "stream",
          "name": "stdout",
          "text": [
            "Collecting gTTS\n",
            "  Downloading gTTS-2.5.1-py3-none-any.whl (29 kB)\n",
            "Requirement already satisfied: requests<3,>=2.27 in /usr/local/lib/python3.10/dist-packages (from gTTS) (2.31.0)\n",
            "Requirement already satisfied: click<8.2,>=7.1 in /usr/local/lib/python3.10/dist-packages (from gTTS) (8.1.7)\n",
            "Requirement already satisfied: charset-normalizer<4,>=2 in /usr/local/lib/python3.10/dist-packages (from requests<3,>=2.27->gTTS) (3.3.2)\n",
            "Requirement already satisfied: idna<4,>=2.5 in /usr/local/lib/python3.10/dist-packages (from requests<3,>=2.27->gTTS) (3.7)\n",
            "Requirement already satisfied: urllib3<3,>=1.21.1 in /usr/local/lib/python3.10/dist-packages (from requests<3,>=2.27->gTTS) (2.0.7)\n",
            "Requirement already satisfied: certifi>=2017.4.17 in /usr/local/lib/python3.10/dist-packages (from requests<3,>=2.27->gTTS) (2024.2.2)\n",
            "Installing collected packages: gTTS\n",
            "Successfully installed gTTS-2.5.1\n"
          ]
        }
      ]
    },
    {
      "cell_type": "code",
      "source": [
        "pip install gtts"
      ],
      "metadata": {
        "colab": {
          "base_uri": "https://localhost:8080/"
        },
        "id": "gA1gscsazjyg",
        "outputId": "639b9796-0d19-43f2-c7c2-d427643c5e6a"
      },
      "execution_count": 4,
      "outputs": [
        {
          "output_type": "stream",
          "name": "stdout",
          "text": [
            "Requirement already satisfied: gtts in /usr/local/lib/python3.10/dist-packages (2.5.1)\n",
            "Requirement already satisfied: requests<3,>=2.27 in /usr/local/lib/python3.10/dist-packages (from gtts) (2.31.0)\n",
            "Requirement already satisfied: click<8.2,>=7.1 in /usr/local/lib/python3.10/dist-packages (from gtts) (8.1.7)\n",
            "Requirement already satisfied: charset-normalizer<4,>=2 in /usr/local/lib/python3.10/dist-packages (from requests<3,>=2.27->gtts) (3.3.2)\n",
            "Requirement already satisfied: idna<4,>=2.5 in /usr/local/lib/python3.10/dist-packages (from requests<3,>=2.27->gtts) (3.7)\n",
            "Requirement already satisfied: urllib3<3,>=1.21.1 in /usr/local/lib/python3.10/dist-packages (from requests<3,>=2.27->gtts) (2.0.7)\n",
            "Requirement already satisfied: certifi>=2017.4.17 in /usr/local/lib/python3.10/dist-packages (from requests<3,>=2.27->gtts) (2024.2.2)\n"
          ]
        }
      ]
    },
    {
      "cell_type": "code",
      "source": [
        "import re\n",
        "import pandas as pd\n",
        "import pyttsx3\n",
        "from sklearn import preprocessing\n",
        "from sklearn.tree import DecisionTreeClassifier,_tree\n",
        "import numpy as np\n",
        "from sklearn.model_selection import train_test_split\n",
        "from sklearn.model_selection import cross_val_score\n",
        "from sklearn.svm import SVC\n",
        "import csv\n",
        "import warnings\n",
        "warnings.filterwarnings(\"ignore\", category=DeprecationWarning)\n",
        "\n",
        "\n",
        "\n",
        "training = pd.read_csv('/content/drive/MyDrive/ML_chatbot/Training.csv')\n",
        "testing= pd.read_csv('/content/drive/MyDrive/ML_chatbot/Testing.csv')\n",
        "cols= training.columns\n",
        "cols= cols[:-1]\n",
        "x = training[cols]\n",
        "y = training['prognosis']\n",
        "y1= y\n",
        "\n",
        "\n",
        "reduced_data = training.groupby(training['prognosis']).max()\n",
        "\n",
        "#mapping strings to numbers\n",
        "le = preprocessing.LabelEncoder()\n",
        "le.fit(y)\n",
        "y = le.transform(y)\n",
        "\n",
        "\n",
        "x_train, x_test, y_train, y_test = train_test_split(x, y, test_size=0.33, random_state=42)\n",
        "testx    = testing[cols]\n",
        "testy    = testing['prognosis']\n",
        "testy    = le.transform(testy)\n",
        "\n",
        "\n",
        "clf1  = DecisionTreeClassifier()\n",
        "clf = clf1.fit(x_train,y_train)\n",
        "# print(clf.score(x_train,y_train))hi\n",
        "\n",
        "# print (\"cross result========\")\n",
        "scores = cross_val_score(clf, x_test, y_test, cv=3)\n",
        "# print ( scores)\n",
        "print (\"Accuracy for Decision Tree classifier: \",scores.mean())\n",
        "\n",
        "\n",
        "model=SVC()\n",
        "model.fit(x_train,y_train)\n",
        "print(\"Accuracy for svm: \")\n",
        "\n",
        "print(model.score(x_test,y_test))\n",
        "\n",
        "importances = clf.feature_importances_\n",
        "indices = np.argsort(importances)[::-1]\n",
        "features = cols\n",
        "\n",
        "\n",
        "severityDictionary=dict()\n",
        "description_list = dict()\n",
        "precautionDictionary=dict()\n",
        "\n",
        "symptoms_dict = {}\n",
        "\n",
        "for index, symptom in enumerate(x):\n",
        "       symptoms_dict[symptom] = index\n",
        "def calc_condition(exp,days):\n",
        "    sum=0\n",
        "    for item in exp:\n",
        "         sum=sum+severityDictionary[item]\n",
        "    if((sum*days)/(len(exp)+1)>13):\n",
        "        print(\"You should take the consultation from doctor. \")\n",
        "    else:\n",
        "        print(\"It might not be that bad but you should take precautions.\")\n",
        "\n",
        "\n",
        "def getDescription():\n",
        "    global description_list\n",
        "    with open('/content/drive/MyDrive/ML_chatbot/symptom_Description.csv') as csv_file:\n",
        "        csv_reader = csv.reader(csv_file, delimiter=',')\n",
        "        line_count = 0\n",
        "        for row in csv_reader:\n",
        "            _description={row[0]:row[1]}\n",
        "            description_list.update(_description)\n",
        "\n",
        "\n",
        "\n",
        "\n",
        "def getSeverityDict():\n",
        "    global severityDictionary\n",
        "    with open('/content/drive/MyDrive/ML_chatbot/Symptom_severity.csv') as csv_file:\n",
        "\n",
        "        csv_reader = csv.reader(csv_file, delimiter=',')\n",
        "        line_count = 0\n",
        "        try:\n",
        "            for row in csv_reader:\n",
        "                _diction={row[0]:int(row[1])}\n",
        "                severityDictionary.update(_diction)\n",
        "        except:\n",
        "            pass\n",
        "\n",
        "\n",
        "def getprecautionDict():\n",
        "    global precautionDictionary\n",
        "    with open('/content/drive/MyDrive/ML_chatbot/symptom_precaution.csv') as csv_file:\n",
        "\n",
        "        csv_reader = csv.reader(csv_file, delimiter=',')\n",
        "        line_count = 0\n",
        "        for row in csv_reader:\n",
        "            _prec={row[0]:[row[1],row[2],row[3],row[4],row[5],row[6]]}\n",
        "            precautionDictionary.update(_prec)\n"
      ],
      "metadata": {
        "colab": {
          "base_uri": "https://localhost:8080/"
        },
        "id": "y_DMGoB85hAV",
        "outputId": "47b8ea04-a166-4aca-fa14-bf05ea4dc5e3"
      },
      "execution_count": 7,
      "outputs": [
        {
          "output_type": "stream",
          "name": "stdout",
          "text": [
            "Accuracy for Decision Tree classifier:  0.9735251788747092\n",
            "Accuracy for svm: \n",
            "1.0\n"
          ]
        }
      ]
    },
    {
      "cell_type": "code",
      "source": [
        "from gtts import gTTS\n",
        "from IPython.display import Audio\n",
        "import time\n",
        "\n",
        "def getInfo():\n",
        "    tts = gTTS(text=\"Hi, I am MedBot\", lang='en')\n",
        "    tts.save(\"medbot_intro.mp3\")\n",
        "    display(Audio(\"medbot_intro.mp3\", autoplay=True))\n",
        "    time.sleep(3)\n",
        "\n",
        "    tts = gTTS(text=\"Your Name?\", lang='en')\n",
        "    tts.save(\"your_name.mp3\")\n",
        "    display(Audio(\"your_name.mp3\", autoplay=True))\n",
        "    time.sleep(3)\n",
        "\n",
        "    tts = gTTS(text=\"Please enter your name:\", lang='en')\n",
        "    tts.save(\"enter_name.mp3\")\n",
        "    display(Audio(\"enter_name.mp3\", autoplay=True))\n",
        "    time.sleep(3)\n",
        "\n",
        "    name = input(\"Your Name? -> \")\n",
        "\n",
        "    tts = gTTS(text=f\"Hello, {name}\", lang='en')\n",
        "    tts.save(\"hello_name.mp3\")\n",
        "    display(Audio(\"hello_name.mp3\", autoplay=True))\n",
        "    time.sleep(3)\n",
        "# Call the getInfo function\n",
        "\n",
        "\n",
        "from gtts import gTTS\n",
        "from IPython.display import Audio\n",
        "import time\n",
        "\n",
        "def check_pattern(dis_list, inp):\n",
        "    pred_list = []\n",
        "    inp = inp.replace(' ', '_')\n",
        "    patt = f\"{inp}\"\n",
        "    regexp = re.compile(patt)\n",
        "    pred_list = [item for item in dis_list if regexp.search(item)]\n",
        "    if len(pred_list) > 0:\n",
        "        return 1, pred_list\n",
        "    else:\n",
        "        return 0, []\n",
        "\n",
        "def sec_predict(symptoms_exp):\n",
        "    df = pd.read_csv('/content/drive/MyDrive/ML_chatbot/Training.csv')\n",
        "    X = df.iloc[:, :-1]\n",
        "    y = df['prognosis']\n",
        "    X_train, X_test, y_train, y_test = train_test_split(X, y, test_size=0.3, random_state=20)\n",
        "    rf_clf = DecisionTreeClassifier()\n",
        "    rf_clf.fit(X_train, y_train)\n",
        "\n",
        "    symptoms_dict = {symptom: index for index, symptom in enumerate(X)}\n",
        "    input_vector = np.zeros(len(symptoms_dict))\n",
        "    for item in symptoms_exp:\n",
        "      input_vector[[symptoms_dict[item]]] = 1\n",
        "\n",
        "    return rf_clf.predict([input_vector])\n",
        "\n",
        "def print_disease(node):\n",
        "    node = node[0]\n",
        "    val = node.nonzero()\n",
        "    disease = le.inverse_transform(val[0])\n",
        "    return list(map(lambda x: x.strip(), list(disease)))\n",
        "\n",
        "def tree_to_code(tree, feature_names):\n",
        "    tree_ = tree.tree_\n",
        "    feature_name = [\n",
        "        feature_names[i] if i != _tree.TREE_UNDEFINED else \"undefined!\"\n",
        "        for i in tree_.feature\n",
        "    ]\n",
        "\n",
        "    chk_dis = \",\".join(feature_names).split(\",\")\n",
        "    symptoms_present = []\n",
        "\n",
        "\n",
        "\n",
        "    while True:\n",
        "        print(\"\\nEnter the symptom you are experiencing  \\t\\t\", end=\"->\")\n",
        "        tts = gTTS(text=\"Please enter the symptom you are experiencing:\", lang='en')\n",
        "        tts.save(\"enter_symptom.mp3\")\n",
        "        display(Audio(\"enter_symptom.mp3\", autoplay=True))\n",
        "        time.sleep(2)\n",
        "\n",
        "        disease_input = input(\"\")\n",
        "\n",
        "        conf, cnf_dis = check_pattern(chk_dis, disease_input)\n",
        "        if conf == 1:\n",
        "            print(\"searches related to input: \")\n",
        "            tts = gTTS(text=\" please know that you're not alone. We're here to support you through this difficult time:\", lang='en')\n",
        "            tts.save(\"related_input.mp3\")\n",
        "            display(Audio(\"related_input.mp3\", autoplay=True))\n",
        "            time.sleep(5)\n",
        "\n",
        "            for num, it in enumerate(cnf_dis):\n",
        "                print(num, \")\", it)\n",
        "\n",
        "            if num != 0:\n",
        "                print(f\"Select the one you meant (0 - {num}):  \", end=\"\")\n",
        "                tts = gTTS(text=f\"Select the one you meant (0 - {num}):\", lang='en')\n",
        "                tts.save(\"select_one.mp3\")\n",
        "                display(Audio(\"select_one.mp3\", autoplay=True))\n",
        "                time.sleep(2)\n",
        "\n",
        "                conf_inp = int(input(\"\"))\n",
        "            else:\n",
        "                conf_inp = 0\n",
        "\n",
        "            disease_input = cnf_dis[conf_inp]\n",
        "            break\n",
        "        else:\n",
        "            print(\"Enter valid symptom.\")\n",
        "            tts = gTTS(text=\"Enter valid symptom.\", lang='en')\n",
        "            tts.save(\"valid_symptom.mp3\")\n",
        "            display(Audio(\"valid_symptom.mp3\", autoplay=True))\n",
        "            time.sleep(2)\n",
        "\n",
        "    while True:\n",
        "        try:\n",
        "            tts = gTTS(text=\"Okay. From how many days ?\", lang='en')\n",
        "            tts.save(\"days.mp3\")\n",
        "            display(Audio(\"days.mp3\", autoplay=True))\n",
        "            time.sleep(2)\n",
        "            num_days = int(input(\"Okay. From how many days ? : \"))\n",
        "            break\n",
        "        except:\n",
        "            print(\"Enter valid input.\")\n",
        "            gTTS(text=\"Enter valid input.\", lang='en').save(\"valid_input.mp3\")\n",
        "            display(Audio(\"valid_input.mp3\", autoplay=True))\n",
        "            time.sleep(2)\n",
        "\n",
        "    def recurse(node, depth):\n",
        "        indent = \"  \" * depth\n",
        "        if tree_.feature[node] != _tree.TREE_UNDEFINED:\n",
        "            name = feature_name[node]\n",
        "            threshold = tree_.threshold[node]\n",
        "\n",
        "            if name == disease_input:\n",
        "                val = 1\n",
        "            else:\n",
        "                val = 0\n",
        "            if val <= threshold:\n",
        "                recurse(tree_.children_left[node], depth + 1)\n",
        "            else:\n",
        "                symptoms_present.append(name)\n",
        "                recurse(tree_.children_right[node], depth + 1)\n",
        "        else:\n",
        "            present_disease = print_disease(tree_.value[node])\n",
        "\n",
        "\n",
        "            red_cols = reduced_data.columns\n",
        "            symptoms_given = red_cols[reduced_data.loc[present_disease].values[0].nonzero()]\n",
        "\n",
        "            tts = gTTS(text=\"Are you experiencing any\", lang='en')\n",
        "            tts.save(\"experiencing_any.mp3\")\n",
        "            display(Audio(\"experiencing_any.mp3\", autoplay=True))\n",
        "            time.sleep(2)\n",
        "\n",
        "            symptoms_exp = []\n",
        "            for syms in list(symptoms_given):\n",
        "                inp = \"\"\n",
        "                tts = gTTS(text=f\"{syms}?\", lang='en')\n",
        "                tts.save(f\"{syms}_question.mp3\")\n",
        "                display(Audio(f\"{syms}_question.mp3\", autoplay=True))\n",
        "                time.sleep(2)\n",
        "\n",
        "                while True:\n",
        "                    inp = input(\"\")\n",
        "                    if inp == \"yes\" or inp == \"no\":\n",
        "                        break\n",
        "                    else:\n",
        "                        tts = gTTS(text=\"provide proper answers. that is (yes/no) :\", lang='en')\n",
        "                        tts.save(\"proper_answers.mp3\")\n",
        "                        display(Audio(\"proper_answers.mp3\", autoplay=True))\n",
        "                        time.sleep(2)\n",
        "\n",
        "                if inp == \"yes\":\n",
        "                    symptoms_exp.append(syms)\n",
        "\n",
        "            second_prediction = sec_predict(symptoms_exp)\n",
        "            calc_condition(symptoms_exp, num_days)\n",
        "            if present_disease[0] == second_prediction[0]:\n",
        "                tts = gTTS(text=f\"You may have {present_disease[0]}\", lang='en')\n",
        "                tts.save(\"may_have.mp3\")\n",
        "                display(Audio(\"may_have.mp3\", autoplay=True))\n",
        "                time.sleep(2)\n",
        "\n",
        "                tts = gTTS(text=description_list[present_disease[0]], lang='en')\n",
        "                tts.save(\"disease_description.mp3\")\n",
        "                display(Audio(\"disease_description.mp3\", autoplay=True))\n",
        "                time.sleep(20)\n",
        "            else:\n",
        "                tts = gTTS(text=f\"You may have {present_disease[0]} or {second_prediction[0]}\", lang='en')\n",
        "                tts.save(\"may_have_multiple.mp3\")\n",
        "                display(Audio(\"may_have_multiple.mp3\", autoplay=True))\n",
        "                time.sleep(4)\n",
        "\n",
        "                tts = gTTS(text=description_list[present_disease[0]], lang='en')\n",
        "                tts.save(\"disease_description.mp3\")\n",
        "                display(Audio(\"disease_description.mp3\", autoplay=True))\n",
        "                time.sleep(20)\n",
        "\n",
        "                tts = gTTS(text=description_list[second_prediction[0]], lang='en')\n",
        "                tts.save(\"second_disease_description.mp3\")\n",
        "                display(Audio(\"second_disease_description.mp3\", autoplay=True))\n",
        "                time.sleep(20)\n",
        "\n",
        "            precution_list = precautionDictionary[present_disease[0]]\n",
        "            tts = gTTS(text=\"Take following measures:\", lang='en')\n",
        "            tts.save(\"take_measures.mp3\")\n",
        "            display(Audio(\"take_measures.mp3\", autoplay=True))\n",
        "            time.sleep(4)\n",
        "\n",
        "            for i, j in enumerate(precution_list):\n",
        "                tts = gTTS(text=f\"{i+1}) {j}\", lang='en')\n",
        "                tts.save(f\"precaution_{i}.mp3\")\n",
        "                display(Audio(f\"precaution_{i}.mp3\", autoplay=True))\n",
        "                time.sleep(4)\n",
        "\n",
        "\n",
        "    recurse(0, 1)\n",
        "\n",
        "# Call your functions\n",
        "getSeverityDict()\n",
        "getDescription()\n",
        "getprecautionDict()\n",
        "getInfo()\n",
        "tree_to_code(clf, cols)\n",
        "print(\"----------------------------------------------------------------------------------------\")\n"
      ],
      "metadata": {
        "id": "eHWJI0Mb9qkh",
        "colab": {
          "base_uri": "https://localhost:8080/",
          "height": 727
        },
        "outputId": "879d5e18-7f26-4ee6-c405-54ec711079d7"
      },
      "execution_count": 9,
      "outputs": [
        {
          "output_type": "display_data",
          "data": {
            "text/plain": [
              "<IPython.lib.display.Audio object>"
            ],
            "text/html": [
              "\n",
              "                <audio  controls=\"controls\" autoplay=\"autoplay\">\n",
              "                    <source src=\"data:audio/mpeg;base64,//NExAAPyAXkAUEAABg+D4P/+/Lg4CAIAgCAPg+D4Pg4CAIAgCAPg+D59H////9+XBwEAQBAEAfB8HwfBwEAQBAEAfB8HwfAgIAgCCr/LsLoI9WSf7iPO5TXf+IPxEpj//NExBMWmlJMAZloAIlZvH4OaL/jnHuS5oCkHwWgLP7JvkMLofb+gg3SRTY6d/ob6AzkNpss0/7XV8645E2TSTV//t0G9NRqYHQdA5v/8/w+mBppVQuzH1kCSMIZFibR//NExAsUGZp4AclAAYRxR39QliRvRRg0Pxd5AAIIYDAUiAHgcAoD43fhCKe0p4Sk0SJhevqCKgyuuYp/q0SUIRRRT+0kPkg27A/z20inBXpPn0p5NFV4LInDRZx/Gdxp//NExA0VafKMABsGmFu69U0B+AJCkWLIBkeHJygDnwlm6k7Xd15m/17Z4/Cuc62JtRNLofM+U8FUEMmFBADvBnee/kEQl6aBFeH0sRLqON2LHts//KUg+2UCDY7+pr1a//NExAoU2fqcADMGmFNWNXsnXbFcahIJaGJSVB0wOKgLjJDMZ6spX/mdzOq5VkRo2wRwU8gwG4l3UxvJvrlIUgRKWjkLa7us76FeLiK6JZzxAxvp/60KYds3UB7qulLi//NExAkTSaakAGPGlAAAGl6XwTtubX0qfPwOgNYhasUBfDEivmR83tzOq8NUCjy2qItuT2mi9UnFrjy4dw1OFn57P/0+fUY12FVecY3nHv7kVd8/VdZILEoq+9PQY4cN//NExA4T2TKwAM5ecN+xK3aAiidDiU9dpINcOYweEbBPxNhBfdX8CIWY5xNhSEPaaQk/HgU3WBXePjNqe+8bzvHr8x8XxWGPTx0X0p/iyl9M0Bumi61OzFSh+M7mTIjC//NExBESkSrAAIYecCB3GmZckhc4RTB3GWdoJUwIXOHDycoXo6BDzTZ8wYz2fHtbeqUrWtL7+MbrumLWw/Dh1LmffFCf5OpXphBk0y7bdgoBI+9utIEJAwMDWcppQcVI//NExBkSATK8AIYecB0Xnxv5L4moXiKcd7SJwlEqXPe4riyZ39+8u9f1iy21/qDqPnNYp0LVprRiVW7qq1wSwvpUg11qiVMa7lWjyEo+w4rO5Rx60BQ2G5mOXDUgIQ4z//NExCQR+UKwAIZgcCS1ZmOaGERWhbWgiojiEf3Im3l0uX3cabpUs42JX4tqbgDt11t2D8wUUKS5pORCLPVWUqVmOa0LeFWnawXLGgxnWF0/y5mI4bkpsugcJ4vITArF//NExC8SaSK4AIYecAM83xqHHib38Xf3m+b7gNsUECgLO+47gZ7ouv/mQkADCqfZglRAXtfrugkIXTIiNOisFsPbdQBHKIwJDEhl8O3gvVJFVSpSqGH4u0sTZEq29q2v//NExDgR8S68AH4ecAcX99btbOsVrfVbQfNVH6b/5hgr4m5CRgIYJ11aZuCOCNVqOpEAQSaL5TL0uG4zhSK1fkctTJhOjRGS5wiE9CNjgOGS1rrP1mt2utPd37To8a1n//NExEMRMSK4AH4YcRd2/90CgDNsarcyYsnpbcFo1RKfXOYCF41ey5/H1gqRTcMPy/0u1VXQsrHT5laveMSUHpQMyQw4/N2s3JrDkNYtmtHnmODil//11cdXZIRL1tuA//NExFESCSa4AMYYcNBkEuWgAwAnksd4GcH6YRLjBE2OJXKROrzi1ODNbb1YTaZSIqXQlTgvpMEzhVQtNnahKONeH2T7hJXv0f9NCr/9TQIvYbUGU9GGliUi0hJkYCDZ//NExFsRmSqwAMPScBMgbhSp2xfcYzGfqh1DYo3gntqKswumoWs0moXDIlWEKG2ESSU2kqnFlXNYsK/6ffd6q4chuOg2xlUeZ+HYw68wWdRBUQcdCmlqyxS13cI9WtfZ//NExGcRwSqkAMPScKuy293zu8+q39u+Z2+0siC6laKbGtJi45CDQdX//X//////6ChOMrVD2HVfpiJR8nMQhTOnwykaBIhzgC6y7xiIEwbfgXwDVIIhhkIG8RF+LIGX//NExHMRcSaYAVkwAC+QUpEWS+eHkZYixAaSKP41xBEVgvCyhQiKKK0Sa/DUA44c4gqJDzhkbVJf8mhliiMibEysbhj0nr/+TprSW5qaolo+Zf///mZ44fZnTNiaHOGW//NExIAhGq5gAZuYACeJ77V1e+GVKSJiB0Xky6olIJJBTzZ5a/d/fMs8ce7MZFXpoiuTZF5pkogsERwqGoKlYgGMDIJpPIehCrVliQ6YupXcyqoTKuQye7zjUdWyx+92//NExE4T6RoUAdgoAG9aDoTUQnxjSVliNjAzAIst3Pw85RO60rP67BL+qUrxtFidzpAoLRlJth4YxgmFg2SuMidwoweHxRdDRHcLWoQi9QccLvCr37TK04VX12ZCCkBY//NExFETcSIIAHmGcCEwabI6cB4E2q1GH5m9tOaNb/ZIrl7RpikDhKKQnSsAhRKzIDOHhKdKknrFAMKFxsGjIdCg71DdC0KCgG26kxv+zvFnwm6mKNbLGd79ab4j59fU//NExFYScP4AADGGcIMAMJqcMTDUweODzaupmYNhdQiBVxkKnDjoVAUYBxOltgzOO0hd4xHjoHJt4zMWjEdqGGG/H/1EKjgEFJPMscRAIBAISRnsqqqqqgIYGj0Fflga//NExF8REMn8AHjGcOWBoGg56wVDUQgqCp0qDQNPnfywd8S+K4NA1lQVBb/iIGtYKgr9dUxBTUUzLjEwMFVVVVVVVVVVVVVVVVVVVVVVVVVVVVVVVVVVVVVVvWiM93GW//NExG0QGHHsADGGSE7YxByCB4OTogQxE/z89EKu8c0CJQ4uB3iJu+7xELf/+ITgBBwMXAAAoAIcDFwIIJE65/nohV33OIld4BmgAI3FwDeIhV393OIlACcDFwAEKAJQ//NExH8AAANIAAAAAO+iaJu5//C67xzQAShwM53/UM0BQfx0IT4Hn9gZA4wDPmZfcM7ACwbx+TjSJiAYXTBbBj96GGMBSZqZF/9t8nT6i0T5p//YghNqOHjN//9BTS0m//NExKwAAANIAAAAAInEUVIq////W6VBA8mJP///pb97HSUzyVr+Zb+ntUrIWhT0ud4vpaa5K2wmIEIaI042ADsvSrUJqCZsB5GgGrPND86Z7xsyax809P9//OM4/z/v//NExP8aMxkIAUYYAVfe9x6gYmwW2PtusOLTPzVSZ7DDg+TM4E5Bz/mV0wPSZr6Drv/I7ihwXGpfa5BhEuN08SAjA2WGMzAfInEUuT6ay0T5oyR9BCkmt60FvRX0l6Rq//NExOkVMmKUAY+AAOgJNViqhdi7mGXtjPRVw//ZiPcq74/w3ue/VOPfr42hAk9KcyedJbIFw1B/JQiCJokUojTpha0DyGXQa01S+tqhh+Kb5+cs/9at9/6DPv7q1Od3//NExOcUaTa0Adh4AFbf2cLthxV8Kj7JZxUBvOh6qJWqvb1NtEIxWWQDSp3iCIvxRZM/FlE46l+cFYTSGVgi7smN2agCRa96QGmIS3Lh+VipC8DtsPg+HhUyQ650i2oN//NExOgTySq8AG4gcCZU/jkQiAYxzWGUjwpJRJJHT51cYdo94S2R0mvztsmXLeoVYklGbcYki5L+L7K1o95UK2D6YapB9VrKix0urVFIwsoxbRYNKt2mQgRCcIiBja/l//NExOsWQTawAMYwcKKGrYhIc6llxm4sFi0FNGa85SAJoD0KZPWoIWhVvWOuEUSEehYVyjRKEHOr8vm9kkZHSdViH3VlUObYTBEpbPzHn1j39se9sZ+7+tL+TE2xHmZS//NExOUbYTqkAM5wcIyttvJAT3/4KpD/dYji8M2ZVORIQzAVTlk/MLSMTghJnV1I6RI4LggQN2sdPCFgF3MdZx1NGM/VswEqZ1ZbhHnTTBTyfrtlsSApBM9kqJBFEAAe//NExMofya6cAMaelXjxag8B4Og4SR5HaCaR1FTY3DwWfSiZv3pOOTNNuPc9amxotN+HXU3tbanW6K97XMba8s/e7/9SvNFqoN5cphghJsCGbVpuIXOAGPu1ZjjdRiUB//NExJ0hIiqYANbWmAc7t+lm2Rgo1aw72KJM0v/lSpNWscN11v3McaSOFYSluy19pKDCrNYreRwQmWtq1OdNYtZaEgS7laNZdRN/d29y+da8XOvTuOs1zI56vJ4b6m9f//NExGsg6h6UAN6emDbe8QKKm+s+9t6+cw9Ne+1u7//rupCwiIWvTazhgcEx7VpvolbwKBAc+h3GlcMGsBMzrvIiOh0uLtyngpGxmtrHOOKUOxT01JBambXKf2QAQAYY//NExDof+hqUAN6WmFI/3JbyWshLtTM68+kBpbY3AyjDWoiYdhe4bB0B9cx9vSd29yPDIhtOm4Knppp2ar99N5md1Xv5tlaih6MJUM2f/5nTnyirv8GRmLaNAwxSy0Kn//NExA0VWTqsAM4ecIBgElUtuaVVNbGS5y+UL7h2duRhaa7qXdyGGhHMW1IqTjOGK3qNLDibXCekSPBrh5fULe/nNa49s1zrMVXTzsY36rIFV/d9k3WksZxgLqw5MEC3//NExAoU2OKgANPYcBHcKhI6CcFCSIUxCQBMANKNvXYVADkWLMo0hOSTQ4jovT3IRUAEAYKjuIaR9hJN5ZWuzfrRcPBpbF1B1CQqRE1PebKiwFO//qJKj85hKDCaU1oo//NExAkS8R6MANvYcFXkgENAxmjsdwHrTQCmMpZg5u4tk8W67OY6qSUG4P5mMwLlonNJiopMvzn3L9SczLtHPzN8tv02rccAKuV+gsXOD6KKT8YFQUE5ZjgKwRlQoLHV//NExBARYPaQANvYcK+ELLWoRPAlLLi9GbfbHG2czP0NiYLYALBC+cQnsr3lrt/y1Kb9erdhdHQsdhMkPb/jRCLCKqDtd9DbqJf8ZeIwBuPDBIbltcRg9lmOltlEu1Y///NExB0RaX6MANtKlN5wWY8UjMcAWJqyZx9SVcXaofMrAIAIrGChWuiSnd//+vQVLEz1/69dbSmkpKDGs2bIGRo2GQjwLjlCZco2AQKNoLEefQYzKS7nkXlQ3NYE+QRY//NExCoRiX6IANtOlJ55SmNaUwvcfHEWERBzBMe6DhY6c///76DWdbSqgWu8A6ETEq6XXXXaY/gJoUNF6XafgOMj2n0RLTVFRFKXJysqI9FQbJ9JxpN9hvasQJqHIsBK//NExDYQyXqEAONOlbkQMRTxoMm6///8p1lVrWLtQ1z2IR1rRoLZw2pQiMECXqb/gbcDOwoApfa00hTSd7Nu3Ofhha+8iU9Rs7XHlCoBAd19219nGIplYPFb6+vb/F6+//NExEUVGSKcANYYcPq98+J5CQrPxU+XDy3//QqA+YvUa1tFcWejicbpp2l6UtTiKwidHIsIShM9+6jxEK6SdNjDBdCQWoCanOXZlfMF3+RGEU+WmFoHwPdZigMQBxa4//NExEMgif6YANZWmP2y+XzxBBSOsntIg8HIcRzUkjaUAAHDjFzSplY/NISvFvv5VaamyRMWPT/9TUVccdyzl1rrAgD3LZd///qFRlXDepkcjD+vg4wkhPaARiB35+7H//NExBMUWTa0AMYYcBTVLvLU2tp1Py20yx+MZjvrRsebY6O1dYVAEy2VhyG4iO1iXLJZodv9Xf7VrFrLtOIhCk8FRRKHVpLSCGf9avFdBQbmA+AKVMz+FMMkd/lWsgig//NExBQSETq4AJ4YcEsUuLSZPvkqgu//asN1hMVB3HMB+S1cQqHt9acnrNu1lib8zTdrl6MVgu9B50Yu2lvQwiPq7+9PigiitPIU9Saqv4xxmQJYqyWW4eUyUbbe/t2X//NExB4UCTq0AMYecCJi9djM7R0s+YVxNCkYnNQTObccRJGNtZYkaPV7WFqNa2L4xi1b+0aDt1MEENsX/cBEVefvKASTL8YV5Y04+oGgUlWCgqYvfAlympqBz+fWjL+5//NExCASMTawAMYYcHPqsuvzx0ZF/KsEo1CIRByEISlSm9a1pf56az3dXN3Le62bJGZ4j/45hiQ50rPgmAqjoGvYkaZTJ1MnZafNJcaUqaKRalwl12M2ctVYzLeeyS75//NExCoRKTqUAM4acCIlo8TFEfQSUCijlNWqS6nRRbt9b0jI2RGxKl6DwKoG1UVDjz9w0QWMLA4ARMKowHIAN8ghBT4M8vaFySNe6R8UeMbtkhyFRepuzWEnuZpcyfNA//NExDgQcPpsANvGcOxI1eaXiqXO/65Mdgq3lHhQrneG2ZeBpg8ARERiAWDJhEKB0mQytK2Hn1i85K4zS6yu0tNTY/lkxqrNGY+VSXjMFDBgqEnqfltdug7/e7/kajaB//NExEkRkOJcAOYGcHDA9oYJDTDZU6wEGQIeBQSALhSOf+djKxYFv4Tdmvj+PN9Win/1IExM3cLCYxSLlTxu83bvXR16cnKMFrHI1+iV9/7dNeXqEywY+OhLoMJUxUmW//NExFUSEJ5EAVsYAOb3VAUQaptX8vSLa/SWXDygkBIl9T5cZ2AEARBoA3N9N0U3CcDkC7jjFv+X01OhJclkxgyXNP9bpuzjDjjISZeTLf+pkGqXlMzGEGEIBJoKV/+q//NExF8fmx5cAZloAepDsm8w003KzcYAYAlB7///+nW9PyXN0GQJ5mUjQwy1la7pGZNoNaKBgQCaMplmAkp3jo0PRw0zxYE6aQCENIjSKry3CaJaszwXccFYxd4FQKqS//NExDMaORqMAdnAACelOnG+jLIOpKPObtWKTvbed/WP9rYY93n23hn21Sz9e/WqHDhUow32NnAwo5QNOCjM5/uWLsaO0YrxOKM/COPrKhiR8a1ZnwUumatEwazctStU//NExB0ZaZKcAMZQlOzDLV5LoYLIJDKasgDMDLIBohpGR2tqTRrK7Lu7ud7f40S0zK2PSERkKmjgfDgORdYd6hK4jj/44+OaIOSAYBm4apYDKARZ/00wqAezyiDxNVgR//NExAoTSS6oAJZacBJDNsRQdciZjZsqhRKSHFYx8Kir9lrKAhV1agyRs3EDBrWcEkNs1ad1Pr7aWtdTG1AuopmaTQ8iqjvQsnAqXCa26dWq1vQULe4yMibjHUOmOQoA//NExA8UQTakAMZacIlXltmuZCLRJClHLFF2lXKAtep7bIBJGEj8CADWXRiDxRma82zmp6kdNqjXMOfrPG1ZtZcu29UgwmXIF5CxUTpT6NYbLxZXR07Qc4gNBs1BkVzJ//NExBESQS6oAMYgcBdKES6QGBjfUyT7QJboiTK6RuT220gRRNIDqJGs3zPW2+p9t0Kl2QU5TPm11xD9lug6Zc5UjG3opcKgk2crjC2b0yjy17WxkN60lORNyggyhj1U//NExBsRwbakAMYKlIExH1H3Xo81H73FO8KvW62Pxv73a/8cv66tvxVCgVKtVt/2/66d7jGIt9vqldnQ+O/kywoXZvlH6f0hGzylSkPhfvjnGozCKg820noNJZoYBx6S//NExCcQiK6cAMYeTCSSkgsza12QuMUYRnFSSGrYVYDZ1jmf9JnCFNWc5QhoMNDpBce3pDEWLAjE39qDBh6uKRh4dhQGCJhEoLKcERdEmiTMThlJFMxTJFCnG01gMH17//NExDcSmL6YAMYeTEF3axGAQRY5H/UraQM//////6EK7+AHcqytAR1FjgXmbyWSgSVViUcHwyqMp2kMnKotap0cqAjzNtMJ5YvBP1kswk5R7c2RgzW81ebFAGRWJTbU//NExD8RMMKQAMYeTNf/o7nIopyLsxMy0acm6IQBwh82Wpih0F4EVFVQHlBaqypXHU8ldr2qK49BYsVqxoaHnEjkniK/WNb//prsaMtg9IqfW0cv69S0RapXYG8QMBNS//NExE0RUTKEAMsQcJGjD5T6MIURnlxKiQlWHxpE15Zvjn+z23ycvAZF0W/fN+f1p1Ozz+7b5k2Y00ptwKKxi/F1wK/zfx6C4u8KS8oJROX0ZOiqQiGXzh8YdWChgTkf//NExFoRoUJoAHpMcVlBAnL1osprb//5NOz1JwkSZcbmzVOzs9GlFA4DhoGQkJA89bKxVv+zFRRv//i/FS9D8L+0vEMbTTXRY0QmkPfKwGOSBzAFAwQBRFc0J4kL3iAx//NExGYQwSX0AGDMcGHMIrwvypoT6GhPEpw+wnNFECcMB8gc8LAMCE/7D585oax+soXLoSgmf2nAiBAGj1FyBMMVONgA9JZuq5nRhl3FYlhoU3FtGTRmUySJkZ5EiAUY//NExHYV2UnQAHjGlDVkpDUUVpsE0ZThNhq0JxyJ6FJ8c2SeS1DUpy1WCKiQQsVSYGMBOAgxLMFQ2XpMvKgmMDECjCgi2VlbMyMjlQ8MDStYqzMS26IZUE5bAnitmJY4//NExHEhIxXcAMJGueMOVBOPhQzkoa5qxORlAaDqoZ2FBMjYLedCvYC+JwmieVF7l6PAYUI5GrBQQjWKiooJP1N//9bOLCv6xUW4uwyAhZmKigke/wWFxXWLGjQVFNQs//NExD8QeG2kAHsGKCoZMg2+F6oxekYJhsnRitHvQChBn54OTzsQIQYQQEDpcuD9QId8uD+oEHRIXPhioEF4nUCAYlwfP+D4YiAEAyUWD9bwQcUBDBAHz9YOQfD9QIAg//NExFAUcJHkAEpMTOieDMIAchoGYkojgdxOUbCjS4Q5HKcaiBkGTxKCIlOClQVIsgtxSJjac2m76JD2t2TW3Ld273ZKqq3ru5oGYKArbVASDAR3oYCMKAqb0iBBgJvs//NExFEgIt3gAHpGuYRICBBg1tqqqlV2b+s2oyRAgOmxqMMJHFhwbsKZthQo/4DChVJEQhxxYfFBK1x42ioIgZAKCIIgiKRSTIg6gXBYRA0RCiGujE0scOSFDTXKSE0N//NExCMSaC3wAEpSAGDyQ1CWgEkNSho1o5OzWhnGJChtkcRCiN60ihtkcRChtscn6khQ3UyGBegmA+g6wRR6wgiiKLgii4EDPjLb3PMMva41berWvJvetsN95/ud/L3t//NExCwRuGXcADGGKTya3hnzneXta8kZdR7nnmHmGFqf9z3P///vOgLEcCJYAkWwRNASQAmIwSkUch+HEshUSiINFQycDRcVLimCJ6FyzKzVs01NXY5LYxqVS8crbjcc//NExDgf+o3UAGJGuZapMbGqs1WLGq7f/xqsWNRMAnAaAoBOAoBOBOJgqrGjKTGpBiDOAoBOAoAoBOAoBOAuAoBOAoBOBBsKLClmlFHDRQ0UKGzSzwqNF0BsyiVqv8kq//NExAsR6k00AElGuLKnAkFiAfFBYplVFI7f//////tlzKWf////ZZLMv/81ZZbLLLLZSNWsn1lgMECBwPGtICCQuKiqxUWb+LJMQU1FMy4xMDCqqqqqqqqqTEFNRTMu//NExBYAAANIAAAAADEwMKqqqqqqqqqqqqqqqqqqqqqqqqqqqqqqqqqqqqqqqqqqqqqqqqqqqqqqqqqqqqqqqqqqqqqqqqqqqqqqqqqqqqqqqqqqqqqqqqqqTEFNRTMu//NExGkAAANIAAAAADEwMKqqqqqqqqqqqqqqqqqqqqqqqqqqqqqqqqqqqqqqqqqqqqqqqqqqqqqqqqqqqqqqqqqqqqqqqqqqqqqqqqqqqqqqqqqqqqqqqqqqTEFNRTMu//NExKwAAANIAAAAADEwMKqqqqqqqqqqqqqqqqqqqqqqqqqqqqqqqqqqqqqqqqqqqqqqqqqqqqqqqqqqqqqqqqqqqqqqqqqqqqqqqqqqqqqqqqqqqqqqqqqqTEFNRTMu//NExKwAAANIAAAAADEwMKqqqqqqqqqqqqqqqqqqqqqqqqqqqqqqqqqqqqqqqqqqqqqqqqqqqqqqqqqqqqqqqqqqqqqqqqqqqqqqqqqqqqqqqqqqqqqqqqqqqqqqqqqq//NExKwAAANIAAAAAKqqqqqqqqqqqqqqqqqqqqqqqqqqqqqqqqqqqqqqqqqqqqqqqqqqqqqqqqqqqqqqqqqqqqqqqqqqqqqqqqqqqqqqqqqqqqqqqqqqqqqqqqqqqqqq//NExKwAAANIAAAAAKqqqqqqqqqqqqqqqqqqqqqqqqqqqqqqqqqqqqqqqqqqqqqqqqqqqqqqqqqqqqqqqqqqqqqqqqqqqqqqqqqqqqqqqqqqqqqqqqqqqqqqqqqqqqqq\" type=\"audio/mpeg\" />\n",
              "                    Your browser does not support the audio element.\n",
              "                </audio>\n",
              "              "
            ]
          },
          "metadata": {}
        },
        {
          "output_type": "display_data",
          "data": {
            "text/plain": [
              "<IPython.lib.display.Audio object>"
            ],
            "text/html": [
              "\n",
              "                <audio  controls=\"controls\" autoplay=\"autoplay\">\n",
              "                    <source src=\"data:audio/mpeg;base64,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\" type=\"audio/mpeg\" />\n",
              "                    Your browser does not support the audio element.\n",
              "                </audio>\n",
              "              "
            ]
          },
          "metadata": {}
        },
        {
          "output_type": "display_data",
          "data": {
            "text/plain": [
              "<IPython.lib.display.Audio object>"
            ],
            "text/html": [
              "\n",
              "                <audio  controls=\"controls\" autoplay=\"autoplay\">\n",
              "                    <source src=\"data:audio/mpeg;base64,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\" type=\"audio/mpeg\" />\n",
              "                    Your browser does not support the audio element.\n",
              "                </audio>\n",
              "              "
            ]
          },
          "metadata": {}
        },
        {
          "name": "stdout",
          "output_type": "stream",
          "text": [
            "Your Name? -> a\n"
          ]
        },
        {
          "output_type": "display_data",
          "data": {
            "text/plain": [
              "<IPython.lib.display.Audio object>"
            ],
            "text/html": [
              "\n",
              "                <audio  controls=\"controls\" autoplay=\"autoplay\">\n",
              "                    <source src=\"data:audio/mpeg;base64,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\" type=\"audio/mpeg\" />\n",
              "                    Your browser does not support the audio element.\n",
              "                </audio>\n",
              "              "
            ]
          },
          "metadata": {}
        },
        {
          "output_type": "stream",
          "name": "stdout",
          "text": [
            "\n",
            "Enter the symptom you are experiencing  \t\t->"
          ]
        },
        {
          "output_type": "display_data",
          "data": {
            "text/plain": [
              "<IPython.lib.display.Audio object>"
            ],
            "text/html": [
              "\n",
              "                <audio  controls=\"controls\" autoplay=\"autoplay\">\n",
              "                    <source src=\"data:audio/mpeg;base64,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\" type=\"audio/mpeg\" />\n",
              "                    Your browser does not support the audio element.\n",
              "                </audio>\n",
              "              "
            ]
          },
          "metadata": {}
        },
        {
          "output_type": "error",
          "ename": "KeyboardInterrupt",
          "evalue": "Interrupted by user",
          "traceback": [
            "\u001b[0;31m---------------------------------------------------------------------------\u001b[0m",
            "\u001b[0;31mKeyboardInterrupt\u001b[0m                         Traceback (most recent call last)",
            "\u001b[0;32m<ipython-input-9-e5416abca916>\u001b[0m in \u001b[0;36m<cell line: 228>\u001b[0;34m()\u001b[0m\n\u001b[1;32m    226\u001b[0m \u001b[0mgetprecautionDict\u001b[0m\u001b[0;34m(\u001b[0m\u001b[0;34m)\u001b[0m\u001b[0;34m\u001b[0m\u001b[0;34m\u001b[0m\u001b[0m\n\u001b[1;32m    227\u001b[0m \u001b[0mgetInfo\u001b[0m\u001b[0;34m(\u001b[0m\u001b[0;34m)\u001b[0m\u001b[0;34m\u001b[0m\u001b[0;34m\u001b[0m\u001b[0m\n\u001b[0;32m--> 228\u001b[0;31m \u001b[0mtree_to_code\u001b[0m\u001b[0;34m(\u001b[0m\u001b[0mclf\u001b[0m\u001b[0;34m,\u001b[0m \u001b[0mcols\u001b[0m\u001b[0;34m)\u001b[0m\u001b[0;34m\u001b[0m\u001b[0;34m\u001b[0m\u001b[0m\n\u001b[0m\u001b[1;32m    229\u001b[0m \u001b[0mprint\u001b[0m\u001b[0;34m(\u001b[0m\u001b[0;34m\"----------------------------------------------------------------------------------------\"\u001b[0m\u001b[0;34m)\u001b[0m\u001b[0;34m\u001b[0m\u001b[0;34m\u001b[0m\u001b[0m\n",
            "\u001b[0;32m<ipython-input-9-e5416abca916>\u001b[0m in \u001b[0;36mtree_to_code\u001b[0;34m(tree, feature_names)\u001b[0m\n\u001b[1;32m     83\u001b[0m         \u001b[0mtime\u001b[0m\u001b[0;34m.\u001b[0m\u001b[0msleep\u001b[0m\u001b[0;34m(\u001b[0m\u001b[0;36m2\u001b[0m\u001b[0;34m)\u001b[0m\u001b[0;34m\u001b[0m\u001b[0;34m\u001b[0m\u001b[0m\n\u001b[1;32m     84\u001b[0m \u001b[0;34m\u001b[0m\u001b[0m\n\u001b[0;32m---> 85\u001b[0;31m         \u001b[0mdisease_input\u001b[0m \u001b[0;34m=\u001b[0m \u001b[0minput\u001b[0m\u001b[0;34m(\u001b[0m\u001b[0;34m\"\"\u001b[0m\u001b[0;34m)\u001b[0m\u001b[0;34m\u001b[0m\u001b[0;34m\u001b[0m\u001b[0m\n\u001b[0m\u001b[1;32m     86\u001b[0m \u001b[0;34m\u001b[0m\u001b[0m\n\u001b[1;32m     87\u001b[0m         \u001b[0mconf\u001b[0m\u001b[0;34m,\u001b[0m \u001b[0mcnf_dis\u001b[0m \u001b[0;34m=\u001b[0m \u001b[0mcheck_pattern\u001b[0m\u001b[0;34m(\u001b[0m\u001b[0mchk_dis\u001b[0m\u001b[0;34m,\u001b[0m \u001b[0mdisease_input\u001b[0m\u001b[0;34m)\u001b[0m\u001b[0;34m\u001b[0m\u001b[0;34m\u001b[0m\u001b[0m\n",
            "\u001b[0;32m/usr/local/lib/python3.10/dist-packages/ipykernel/kernelbase.py\u001b[0m in \u001b[0;36mraw_input\u001b[0;34m(self, prompt)\u001b[0m\n\u001b[1;32m    849\u001b[0m                 \u001b[0;34m\"raw_input was called, but this frontend does not support input requests.\"\u001b[0m\u001b[0;34m\u001b[0m\u001b[0;34m\u001b[0m\u001b[0m\n\u001b[1;32m    850\u001b[0m             )\n\u001b[0;32m--> 851\u001b[0;31m         return self._input_request(str(prompt),\n\u001b[0m\u001b[1;32m    852\u001b[0m             \u001b[0mself\u001b[0m\u001b[0;34m.\u001b[0m\u001b[0m_parent_ident\u001b[0m\u001b[0;34m,\u001b[0m\u001b[0;34m\u001b[0m\u001b[0;34m\u001b[0m\u001b[0m\n\u001b[1;32m    853\u001b[0m             \u001b[0mself\u001b[0m\u001b[0;34m.\u001b[0m\u001b[0m_parent_header\u001b[0m\u001b[0;34m,\u001b[0m\u001b[0;34m\u001b[0m\u001b[0;34m\u001b[0m\u001b[0m\n",
            "\u001b[0;32m/usr/local/lib/python3.10/dist-packages/ipykernel/kernelbase.py\u001b[0m in \u001b[0;36m_input_request\u001b[0;34m(self, prompt, ident, parent, password)\u001b[0m\n\u001b[1;32m    893\u001b[0m             \u001b[0;32mexcept\u001b[0m \u001b[0mKeyboardInterrupt\u001b[0m\u001b[0;34m:\u001b[0m\u001b[0;34m\u001b[0m\u001b[0;34m\u001b[0m\u001b[0m\n\u001b[1;32m    894\u001b[0m                 \u001b[0;31m# re-raise KeyboardInterrupt, to truncate traceback\u001b[0m\u001b[0;34m\u001b[0m\u001b[0;34m\u001b[0m\u001b[0m\n\u001b[0;32m--> 895\u001b[0;31m                 \u001b[0;32mraise\u001b[0m \u001b[0mKeyboardInterrupt\u001b[0m\u001b[0;34m(\u001b[0m\u001b[0;34m\"Interrupted by user\"\u001b[0m\u001b[0;34m)\u001b[0m \u001b[0;32mfrom\u001b[0m \u001b[0;32mNone\u001b[0m\u001b[0;34m\u001b[0m\u001b[0;34m\u001b[0m\u001b[0m\n\u001b[0m\u001b[1;32m    896\u001b[0m             \u001b[0;32mexcept\u001b[0m \u001b[0mException\u001b[0m \u001b[0;32mas\u001b[0m \u001b[0me\u001b[0m\u001b[0;34m:\u001b[0m\u001b[0;34m\u001b[0m\u001b[0;34m\u001b[0m\u001b[0m\n\u001b[1;32m    897\u001b[0m                 \u001b[0mself\u001b[0m\u001b[0;34m.\u001b[0m\u001b[0mlog\u001b[0m\u001b[0;34m.\u001b[0m\u001b[0mwarning\u001b[0m\u001b[0;34m(\u001b[0m\u001b[0;34m\"Invalid Message:\"\u001b[0m\u001b[0;34m,\u001b[0m \u001b[0mexc_info\u001b[0m\u001b[0;34m=\u001b[0m\u001b[0;32mTrue\u001b[0m\u001b[0;34m)\u001b[0m\u001b[0;34m\u001b[0m\u001b[0;34m\u001b[0m\u001b[0m\n",
            "\u001b[0;31mKeyboardInterrupt\u001b[0m: Interrupted by user"
          ]
        }
      ]
    },
    {
      "cell_type": "code",
      "source": [
        "ai"
      ],
      "metadata": {
        "id": "dnWbII-02GaY"
      },
      "execution_count": null,
      "outputs": []
    }
  ]
}